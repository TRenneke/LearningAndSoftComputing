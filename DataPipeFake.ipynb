{
 "cells": [
  {
   "cell_type": "code",
   "execution_count": null,
   "metadata": {},
   "outputs": [],
   "source": [
    "import torch\n",
    "import torchvision\n",
    "from torch.utils.data import Dataset, DataLoader\n",
    "import os\n",
    "import cv2 as cv\n",
    "import random \n",
    "import argparse"
   ]
  },
  {
   "cell_type": "markdown",
   "metadata": {},
   "source": [
    "Definition der Datensatz Klasse, diese stellt Bilder + Annotationen zum training bereit. Die Bilder werden dabei zur trainingszeit zusammen gesetzt sodass eine Explizite größen angabe erfolgen muss."
   ]
  },
  {
   "cell_type": "code",
   "execution_count": null,
   "metadata": {},
   "outputs": [],
   "source": [
    "class fake_dataset(Dataset):\n",
    "    def __init__(self, sign_path: str, background_path: str, length, scr):\n",
    "        self.sign_path = sign_path\n",
    "        self.background_path = background_path\n",
    "        self.signs = os.listdir(sign_path)\n",
    "        self.backgrounds = os.listdir(background_path)\n",
    "        self.length = length\n",
    "        self.scr = scr\n",
    "    def get_rand_img(root, paths):\n",
    "        path = paths[random.randrange(0, len(paths))]\n",
    "        return cv.imread(os.path.join(root, path))\n",
    "    def __len__(self):\n",
    "        return self.length\n",
    "    def __getitem__(self, idx):\n",
    "        sign_count = random.randrange(self.scr[0], self.scr[1])\n",
    "        "
   ]
  },
  {
   "cell_type": "code",
   "execution_count": null,
   "metadata": {},
   "outputs": [],
   "source": [
    "ds = fake_dataset\n",
    "ds = fake_dataset\n",
    "train_loader = DataLoader(ds, 4)\n",
    "eval_loader = DataLoader(ds, 4)\n",
    "\n",
    "model = torchvision.models.detection.fasterrcnn_mobilenet_v3_large_fpn()\n",
    "#@todo Fix Hardcoded params\n",
    "parameters = [p for p in model.parameters() if p.requires_grad]\n",
    "optimizer = torch.optim.SGD(\n",
    "            parameters,\n",
    "            lr=0.01,\n",
    "            momentum=1,\n",
    "            weight_decay=1,\n",
    "        )\n",
    "\n",
    "for i in range(100):\n",
    "    for images, targets in train_loader:\n",
    "        result = model(images, targets)\n",
    "    #with torch.cuda.amp.autocast(enabled=scaler is not None):\n",
    "        loss_dict = model(images, targets)\n",
    "        losses = sum(loss for loss in loss_dict.values())\n",
    "        losses.backward()\n",
    "        optimizer.step()"
   ]
  }
 ],
 "metadata": {
  "language_info": {
   "name": "python"
  },
  "orig_nbformat": 4
 },
 "nbformat": 4,
 "nbformat_minor": 2
}
