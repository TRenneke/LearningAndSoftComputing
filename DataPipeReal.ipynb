{
 "cells": [
  {
   "cell_type": "code",
   "execution_count": 71,
   "id": "5701df73",
   "metadata": {},
   "outputs": [],
   "source": [
    "import torch\n",
    "import torchvision\n",
    "import pandas as pd\n",
    "from torch.utils.data import Dataset, DataLoader"
   ]
  },
  {
   "cell_type": "code",
   "execution_count": 72,
   "id": "e1bb0852",
   "metadata": {},
   "outputs": [],
   "source": [
    "# dataset definition\n",
    "class Dataset(Dataset):\n",
    "    # load the dataset\n",
    "    def __init__(self):\n",
    "        # store the inputs and outputs\n",
    "        self.data = pd.read_csv(\"/home/semone/db_lisa_tiny/annotations.csv\")\n",
    "        self.filename = data.iloc[:,1].values\n",
    "        self.sign = data.iloc[:,1:5].values\n",
    "        self.label = data.iloc[:,5].values\n",
    "\n",
    "    # number of rows in the dataset\n",
    "    def __len__(self):\n",
    "        return len(self.data)\n",
    "\n",
    "    # get a row at an index\n",
    "    def __getitem__(self, idx):\n",
    "        return [self.sign[idx], self.label[idx]]"
   ]
  },
  {
   "cell_type": "code",
   "execution_count": 73,
   "id": "d48777e8",
   "metadata": {},
   "outputs": [],
   "source": [
    "ds = Dataset()"
   ]
  },
  {
   "cell_type": "code",
   "execution_count": 62,
   "id": "0bffb887",
   "metadata": {},
   "outputs": [],
   "source": []
  },
  {
   "cell_type": "code",
   "execution_count": null,
   "id": "77d0a6f7",
   "metadata": {},
   "outputs": [],
   "source": []
  }
 ],
 "metadata": {
  "kernelspec": {
   "display_name": "Python 3 (ipykernel)",
   "language": "python",
   "name": "python3"
  },
  "language_info": {
   "codemirror_mode": {
    "name": "ipython",
    "version": 3
   },
   "file_extension": ".py",
   "mimetype": "text/x-python",
   "name": "python",
   "nbconvert_exporter": "python",
   "pygments_lexer": "ipython3",
   "version": "3.8.10"
  }
 },
 "nbformat": 4,
 "nbformat_minor": 5
}
